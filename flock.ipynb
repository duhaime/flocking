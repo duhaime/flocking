{
 "cells": [
  {
   "cell_type": "code",
   "execution_count": 48,
   "metadata": {},
   "outputs": [],
   "source": [
    "from IPython.display import HTML\n",
    "from matplotlib.animation import FuncAnimation\n",
    "from collections import namedtuple\n",
    "import matplotlib.pyplot as plt\n",
    "import numpy as np\n",
    "import threading\n",
    "import pygame\n",
    "import random\n",
    "import mido\n",
    "import math\n",
    "import os\n",
    "\n",
    "class Boid:\n",
    "  def __init__(self, x, y):\n",
    "    self.acceleration = vec2(0, 0)\n",
    "    angle = random.uniform(0, 2*math.pi)\n",
    "    self.velocity = vec2(math.cos(angle), math.sin(angle))\n",
    "    self.position = vec2(x, y)\n",
    "    self.r = 2.0\n",
    "    self.max_velocity = 2\n",
    "    self.max_acceleration = 0.03\n",
    "  \n",
    "  def seek(self, target):\n",
    "    desired = target - self.position\n",
    "    desired = desired.normalized()\n",
    "    desired *= self.max_velocity\n",
    "    steer = desired - self.velocity\n",
    "    steer = steer.limited(self.max_acceleration)\n",
    "    return steer\n",
    "  \n",
    "  # Wraparound\n",
    "  def borders(self):\n",
    "    x, y = self.position\n",
    "    x = (x+self.width) % self.width\n",
    "    y = (y+self.height) % self.height\n",
    "    self.position = vec2(x,y)\n",
    "  \n",
    "  # Separation: Method checks for nearby boids and steers away\n",
    "  def separate(self, boids):\n",
    "    desired_separation = 25.0\n",
    "    steer = vec2(0, 0)\n",
    "    count = 0\n",
    "    # For every boid in the system, check if it's too close\n",
    "    for other in boids:\n",
    "      d = (self.position - other.position).length()\n",
    "      # If the distance is greater than 0 and less than an arbitrary\n",
    "      # amount (0 when you are yourself)\n",
    "      if 0 < d < desired_separation:\n",
    "        # Calculate vector pointing away from neighbor\n",
    "        diff = self.position - other.position\n",
    "        diff = diff.normalized()\n",
    "        steer += diff/d  # Weight by distance\n",
    "        count += 1     # Keep track of how many\n",
    "    # Average - divide by how many\n",
    "    if count > 0:\n",
    "      steer /= count\n",
    "    # As long as the vector is greater than 0\n",
    "    if steer.length() > 0:\n",
    "      # Implement Reynolds: Steering = Desired - Velocity\n",
    "      steer = steer.normalized()\n",
    "      steer *= self.max_velocity\n",
    "      steer -= self.velocity\n",
    "      steer = steer.limited(self.max_acceleration)\n",
    "    return steer\n",
    "  \n",
    "  # Alignment: For every nearby boid in the system, calculate the average velocity\n",
    "  def align(self, boids):\n",
    "    neighbor_dist = 50\n",
    "    sum = vec2(0, 0)\n",
    "    count = 0\n",
    "    for other in boids:\n",
    "      d = (self.position - other.position).length()\n",
    "      if 0 < d < neighbor_dist:\n",
    "        sum += other.velocity\n",
    "        count += 1\n",
    "    if count > 0:\n",
    "      sum /= count\n",
    "      # Implement Reynolds: Steering = Desired - Velocity\n",
    "      sum = sum.normalized()\n",
    "      sum *= self.max_velocity\n",
    "      steer = sum - self.velocity\n",
    "      steer = steer.limited(self.max_acceleration)\n",
    "      return steer\n",
    "    else:\n",
    "      return vec2(0, 0)\n",
    "  \n",
    "  # Cohesion: For the average position (i.e. center) of all nearby boids, calculate\n",
    "  # steering vector towards that position\n",
    "  def cohesion(self, boids):\n",
    "    neighbor_dist = 50\n",
    "    sum = vec2(0, 0)  # Start with empty vector to accumulate all positions\n",
    "    count = 0\n",
    "    for other in boids:\n",
    "      d = (self.position - other.position).length()\n",
    "      if 0 < d < neighbor_dist:\n",
    "        sum += other.position  # Add position\n",
    "        count += 1\n",
    "    if count > 0:\n",
    "      sum /= count\n",
    "      return self.seek(sum)\n",
    "    else:\n",
    "      return vec2(0, 0)\n",
    "  \n",
    "  def flock(self, boids):\n",
    "    sep = self.separate(boids)  # Separation\n",
    "    ali = self.align(boids)  # Alignment\n",
    "    coh = self.cohesion(boids)  # Cohesion\n",
    "    # Arbitrarily weight these forces\n",
    "    sep *= 1.5\n",
    "    ali *= 1.0\n",
    "    coh *= 1.0\n",
    "    # Add the force vectors to acceleration\n",
    "    self.acceleration += sep\n",
    "    self.acceleration += ali\n",
    "    self.acceleration += coh\n",
    "  \n",
    "  def update(self):\n",
    "    # Update velocity\n",
    "    self.velocity += self.acceleration\n",
    "    # Limit speed\n",
    "    self.velocity = self.velocity.limited(self.max_velocity)\n",
    "    self.position += self.velocity\n",
    "    # Reset acceleration to 0 each cycle\n",
    "    self.acceleration = vec2(0, 0)\n",
    "  \n",
    "  def run(self, boids):\n",
    "    self.flock(boids)\n",
    "    self.update()\n",
    "    self.borders()\n",
    "\n",
    "class Flock:\n",
    "  def __init__(self, count=150, width=640, height=360):\n",
    "    self.width = width\n",
    "    self.height = height\n",
    "    self.boids = []\n",
    "    for i in range(count):\n",
    "      boid = Boid(width/2, height/2)\n",
    "      boid.width = width\n",
    "      boid.height = height\n",
    "      self.boids.append(boid)\n",
    "  \n",
    "  def run(self):\n",
    "    for boid in self.boids:\n",
    "      boid.run(self.boids)\n",
    "  \n",
    "  def cohesion(self, boids):\n",
    "    P = np.zeros((len(boids),2))\n",
    "    for i, boid in enumerate(self.boids):\n",
    "      P[i] = boid.cohesion(self.boids)\n",
    "    return P\n",
    "##\n",
    "# Helpers\n",
    "##\n",
    "\n",
    "def struct(name, members):\n",
    "  cls = namedtuple(name, members)\n",
    "  cls.__repr__ = lambda self: \"%s(%s)\" % (name, ','.join(str(s) for s in self))\n",
    "  return cls\n",
    "\n",
    "class vec2(struct('vec2', ('x', 'y'))):\n",
    "  def __add__(self, other):\n",
    "    if isinstance(other, vec2):\n",
    "      return vec2(self.x+other.x, self.y+other.y)\n",
    "    return vec2(self.x+other, self.y+other)\n",
    "  \n",
    "  def __sub__(self, other):\n",
    "    if isinstance(other, vec2):\n",
    "      return vec2(self.x-other.x, self.y-other.y)\n",
    "    return vec2(self.x-other, self.y-other)\n",
    "  \n",
    "  def __mul__(self, other):\n",
    "    if isinstance(other, vec2):\n",
    "      return vec2(self.x*other.x, self.y*other.y)\n",
    "    return vec2(self.x*other, self.y*other)\n",
    "  \n",
    "  def __truediv__(self, other):\n",
    "    if isinstance(other, vec2):\n",
    "      return vec2(self.x/other.x, self.y/other.y)\n",
    "    return vec2(self.x/other, self.y/other)\n",
    "  \n",
    "  def length(self):\n",
    "    return math.hypot(self.x, self.y)\n",
    "  \n",
    "  def normalized(self):\n",
    "    length = self.length()\n",
    "    if not length:\n",
    "      length = 1.0\n",
    "    return vec2(self.x/length, self.y/length)\n",
    "  \n",
    "  def limited(self, maxlength=1.0):\n",
    "    length = self.length()\n",
    "    if length > maxlength:\n",
    "      return vec2(maxlength*self.x/length, maxlength*self.y/length)\n",
    "    return self\n",
    "\n",
    "##\n",
    "# Midi\n",
    "##\n",
    "\n",
    "def play_midi(arg):\n",
    "  '''Stream `arg` (midi file path or mido.midifile)'''\n",
    "  tmp = None\n",
    "  if isinstance(arg, mido.midifiles.midifiles.MidiFile):\n",
    "    tmp = 'temp-{}.mid'.format(random.randint(0, 2**64))\n",
    "    arg.save(tmp)\n",
    "    path = tmp\n",
    "  else:\n",
    "    path = arg\n",
    "  # play the audio\n",
    "  freq = 44100     # audio CD quality\n",
    "  bitsize = -16    # unsigned 16 bit\n",
    "  channels = 2     # 1 is mono, 2 is stereo\n",
    "  n_samples = 1024 # number of samples\n",
    "  pygame.mixer.init(freq, bitsize, channels, n_samples)\n",
    "  pygame.mixer.music.set_volume(0.8) # optional volume 0 to 1.0\n",
    "  # play the clip\n",
    "  try:\n",
    "    clock = pygame.time.Clock()\n",
    "    pygame.mixer.music.load(path)\n",
    "    pygame.mixer.music.play()\n",
    "    while pygame.mixer.music.get_busy():\n",
    "      clock.tick(30) # check if playback has finished\n",
    "  except KeyboardInterrupt:\n",
    "    # if user hits Ctrl/C then exit\n",
    "    pygame.mixer.music.fadeout(1000)\n",
    "    pygame.mixer.music.stop()\n",
    "  if tmp: os.remove(tmp)\n",
    "  return arg\n",
    "\n",
    "##\n",
    "# Config\n",
    "##\n",
    "\n",
    "n = 50 # number of boids\n",
    "flock = Flock(n) # boid Flock\n",
    "P = np.zeros((n,2)) # positions in one frame\n",
    "l = [] # positions across all frames\n",
    "domains = {'x': [0, 640], 'y': [0, 360]} # domains to use in x, y dimensions"
   ]
  },
  {
   "cell_type": "code",
   "execution_count": null,
   "metadata": {},
   "outputs": [],
   "source": [
    "# create a sequence of flock steps\n",
    "for i in range(10000):\n",
    "  flock.run()\n",
    "  P = np.zeros((n,2)) # positions in one frame\n",
    "  for idx, boid in enumerate(flock.boids): P[idx] = boid.position\n",
    "  l.append(P)"
   ]
  },
  {
   "cell_type": "code",
   "execution_count": 2,
   "metadata": {},
   "outputs": [],
   "source": [
    "if False:\n",
    "  flock_arr = np.array(l)\n",
    "  np.save('flock-simulation', flock_arr)\n",
    "else:\n",
    "  flock_arr = np.load('flock-simulation.npy')"
   ]
  },
  {
   "cell_type": "markdown",
   "metadata": {},
   "source": [
    "# Pitch Grid"
   ]
  },
  {
   "cell_type": "code",
   "execution_count": 3,
   "metadata": {},
   "outputs": [],
   "source": [
    "import random\n",
    "import numpy as np\n",
    "\n",
    "# identify available pitch steps within chromatic scale\n",
    "base_steps = [0, 2, 4, 5, 7, 9, 11]\n",
    "steps = []\n",
    "for octave in [3,4,5]:\n",
    "  steps += [i+(octave*12) for i in base_steps]\n",
    "\n",
    "# identify the number of distinct pitches in each dimension\n",
    "n_x_stops = 10\n",
    "n_y_stops = 10\n",
    "\n",
    "# quantize out a grid\n",
    "x_stops = np.linspace(domains['x'][0], domains['x'][1], num=n_x_stops, endpoint=False)\n",
    "y_stops = np.linspace(domains['y'][0], domains['y'][1], num=n_y_stops, endpoint=False)\n",
    "\n",
    "# create the coordinate grid\n",
    "coord_grid = np.array(np.meshgrid(x_stops, y_stops)).T\n",
    "\n",
    "# create the grid of pitch steps\n",
    "pitch_grid = np.zeros((n_x_stops, n_y_stops))\n",
    "kdx = 0\n",
    "for idx, i in enumerate(pitch_grid):\n",
    "  for jdx, j in enumerate(i):\n",
    "    pitch_grid[idx, jdx] = steps[kdx]\n",
    "    kdx = kdx+1\n",
    "    if kdx >= len(steps): kdx = 0\n",
    "pitch_grid = pitch_grid.astype('int')"
   ]
  },
  {
   "cell_type": "code",
   "execution_count": null,
   "metadata": {},
   "outputs": [],
   "source": [
    "print(steps)"
   ]
  },
  {
   "cell_type": "code",
   "execution_count": null,
   "metadata": {},
   "outputs": [],
   "source": [
    "pitch_grid"
   ]
  },
  {
   "cell_type": "markdown",
   "metadata": {},
   "source": [
    "# Random simulation"
   ]
  },
  {
   "cell_type": "code",
   "execution_count": null,
   "metadata": {},
   "outputs": [],
   "source": [
    "from collections import defaultdict\n",
    "\n",
    "m = mido.MidiFile()\n",
    "m.tracks.append(mido.MidiTrack())\n",
    "\n",
    "time_scalar = 120 # beats per unit in i\n",
    "times = {i: 0 for i in steps} # d[note] = time the note was pressed\n",
    "pressed = {i: False for i in steps} # d[note] = pressed or not\n",
    "\n",
    "# store all times in absolute coords\n",
    "for i in range(10): # n frames of time\n",
    "  new_notes = [random.choice(steps) for _ in range(random.choice([2,3,4]))]\n",
    "  # end each played note that's not in the new notes\n",
    "  for note in pressed:\n",
    "    if not pressed[note]: continue\n",
    "    if note not in new_notes:\n",
    "      m.tracks[0].append( mido.Message('note_off', note=note, time=i*time_scalar) )\n",
    "      pressed[note] = False\n",
    "  # add the new notes\n",
    "  for note in new_notes:\n",
    "    if not pressed[note]:\n",
    "      pressed[note] = True\n",
    "      times[note] = i\n",
    "      m.tracks[0].append( mido.Message('note_on', note=note, time=i*time_scalar) )\n",
    "      \n",
    "# convert times to relative offsets\n",
    "last_time = 0\n",
    "for i in m.tracks[0]:\n",
    "  t = i.time\n",
    "  i.time = i.time - last_time\n",
    "  last_time = t\n",
    "  \n",
    "# save and play the midi\n",
    "play_midi(m)\n",
    "m.save('random.mid')"
   ]
  },
  {
   "cell_type": "markdown",
   "metadata": {},
   "source": [
    "# Flock simulation"
   ]
  },
  {
   "cell_type": "code",
   "execution_count": 5,
   "metadata": {},
   "outputs": [],
   "source": [
    "from sklearn.cluster import KMeans\n",
    "from collections import defaultdict\n",
    "\n",
    "m = mido.MidiFile()\n",
    "m.tracks.append(mido.MidiTrack())\n",
    "\n",
    "step = 1 # how often to sample frames\n",
    "time_scalar = 1200 # beats per unit in i\n",
    "times = {i: 0 for i in steps} # d[note] = time the note was pressed\n",
    "pressed = {i: False for i in steps} # d[note] = pressed or not\n",
    "positions = [] # [[list of x,y positions in pitch space for frame]]\n",
    "\n",
    "# store all times in absolute coords\n",
    "flock_arr = np.load('flock-simulation.npy')\n",
    "for idx, i in enumerate(flock_arr): # time\n",
    "  if idx % step != 0: continue\n",
    "  model = KMeans(n_clusters=3).fit(i)\n",
    "  frame_centroids = model.cluster_centers_\n",
    "  # convert the k flock centroid positions to notes\n",
    "  frame_notes = []\n",
    "  frame_positions = []\n",
    "  for x, y in frame_centroids:\n",
    "    # find the index offsets of x, y in the coords grid\n",
    "    x_pos = np.where(x_stops < x)[0][-1]\n",
    "    y_pos = np.where(y_stops < y)[0][-1]\n",
    "    # get the pitch that corresponds with the centroid\n",
    "    frame_notes.append( pitch_grid[x_pos, y_pos] )\n",
    "    frame_positions.append([x_pos, y_pos])\n",
    "  positions.append(frame_positions)\n",
    "  # end each played note that's not in the new notes\n",
    "  for note in pressed:\n",
    "    if not pressed[note]: continue\n",
    "    if note not in frame_notes:\n",
    "      m.tracks[0].append( mido.Message('note_off', note=note, time=idx*time_scalar) )\n",
    "      pressed[note] = False\n",
    "  # add the new notes\n",
    "  for note in frame_notes:\n",
    "    if not pressed[note]:\n",
    "      pressed[note] = True\n",
    "      times[note] = idx\n",
    "      m.tracks[0].append( mido.Message('note_on', note=note, time=idx*time_scalar) )\n",
    "# close all open notes\n",
    "for note in pressed:\n",
    "  if not pressed[note]: continue\n",
    "  m.tracks[0].append( mido.Message('note_off', note=note, time=idx*time_scalar) )\n",
    "      \n",
    "# convert times to relative offsets\n",
    "last_time = 0\n",
    "for i in m.tracks[0]:\n",
    "  t = i.time\n",
    "  i.time = i.time - last_time\n",
    "  last_time = t"
   ]
  },
  {
   "cell_type": "code",
   "execution_count": 54,
   "metadata": {},
   "outputs": [
    {
     "data": {
      "text/plain": [
       "0"
      ]
     },
     "execution_count": 54,
     "metadata": {},
     "output_type": "execute_result"
    }
   ],
   "source": [
    "# set tempo and save\n",
    "if False:\n",
    "  m.tracks[0].insert(0, mido.MetaMessage('set_tempo', tempo=990))\n",
    "  m.ticks_per_beat = 300\n",
    "  m.save('flock.mid')\n",
    "\n",
    "m = mido.MidiFile('og-flock.mid')\n",
    "m.ticks_per_beat = 10000\n",
    "for i in m:\n",
    "  i.time *= 0.25\n",
    "m.save('flock.mid')\n",
    "  \n",
    "os.system('open flock.mid')\n",
    "  \n",
    "# convert to mp3\n",
    "if os.path.exists('flock.mp3'): os.remove('flock.mp3')\n",
    "os.system('timidity flock.mid -Ow -o - | ffmpeg -i - -acodec libmp3lame -ab 64k flock.mp3')"
   ]
  },
  {
   "cell_type": "markdown",
   "metadata": {},
   "source": [
    "# Visualize the boid flock movement"
   ]
  },
  {
   "cell_type": "code",
   "execution_count": 29,
   "metadata": {},
   "outputs": [
    {
     "data": {
      "text/plain": [
       "[]"
      ]
     },
     "execution_count": 29,
     "metadata": {},
     "output_type": "execute_result"
    },
    {
     "data": {
      "image/png": "[encoded data removed]",
      "text/plain": [
       "<Figure size 576x360 with 1 Axes>"
      ]
     },
     "metadata": {},
     "output_type": "display_data"
    }
   ],
   "source": [
    "# visualize the raw sequence - one point per boid\n",
    "def update(time):\n",
    "  scatter.set_offsets(flock_arr[time])\n",
    "\n",
    "fig = plt.figure(figsize=(8, 5))\n",
    "ax = fig.add_axes([0.0, 0.0, 1.0, 1.0], frameon=True)\n",
    "scatter = ax.scatter(P[:,0], P[:,1], s=30, facecolor='red', edgecolor='None', alpha=0.5, marker='<')\n",
    "\n",
    "# interval = time between frames in milliseconds\n",
    "boid_animation = FuncAnimation(fig, update, interval=30, frames=len(flock_arr))\n",
    "ax.set_xlim(*domains['x'])\n",
    "ax.set_ylim(*domains['y'])\n",
    "ax.set_xticks([])\n",
    "ax.set_yticks([])\n",
    "\n",
    "#HTML(boid_animation.to_html5_video())"
   ]
  },
  {
   "cell_type": "code",
   "execution_count": 31,
   "metadata": {},
   "outputs": [],
   "source": [
    "# save the animation\n",
    "boid_animation.save('boid-animation.mp4', fps=20)"
   ]
  },
  {
   "cell_type": "markdown",
   "metadata": {},
   "source": [
    "# Visualize the centroid movement"
   ]
  },
  {
   "cell_type": "code",
   "execution_count": 46,
   "metadata": {},
   "outputs": [
    {
     "data": {
      "image/png": "[encoded data removed]",
      "text/plain": [
       "<Figure size 576x360 with 1 Axes>"
      ]
     },
     "metadata": {},
     "output_type": "display_data"
    }
   ],
   "source": [
    "def get_frame_array(frame_idx):\n",
    "  f = np.zeros((n_x_stops, n_y_stops))\n",
    "  for x,y in p[frame_idx]: \n",
    "    f[n_y_stops-y-1, x] = 1 # set the centroid boxes to 1, invert y axis\n",
    "  return f\n",
    "\n",
    "def update(i):\n",
    "  im.set_array(get_frame_array(i))\n",
    "\n",
    "fig = plt.figure(figsize=(8, 5))\n",
    "ax = fig.add_axes([0.0, 0.0, 1.0, 1.0], frameon=False, xticks=[], yticks=[])\n",
    "\n",
    "p = np.array(positions)\n",
    "im = ax.imshow(get_frame_array(0))\n",
    "\n",
    "# interval = time between frames in milliseconds\n",
    "centroid_animation = FuncAnimation(fig, update, interval=30, frames=len(positions))\n",
    "ax.set_xticks([])\n",
    "ax.set_yticks([])\n",
    "ax.set_aspect('auto')\n",
    "\n",
    "#HTML(centroid_animation.to_html5_video())"
   ]
  },
  {
   "cell_type": "code",
   "execution_count": 47,
   "metadata": {},
   "outputs": [],
   "source": [
    "# save the animation\n",
    "centroid_animation.save('centroid-animation.mp4', fps=20)"
   ]
  },
  {
   "cell_type": "markdown",
   "metadata": {},
   "source": [
    "# Stack animations"
   ]
  },
  {
   "cell_type": "code",
   "execution_count": null,
   "metadata": {},
   "outputs": [],
   "source": [
    "os.system('ffmpeg -y -i boid-animation.mp4 -i centroid-animation.mp4 -filter_complex \"[1:v][0:v]scale2ref[ua][b];[ua]setsar=1,format=yuva444p,colorchannelmixer=aa=0.5[u];[b][u]overlay=eof_action=pass[v]\" -map [v] stacked-animation.mp4')"
   ]
  },
  {
   "cell_type": "markdown",
   "metadata": {},
   "source": [
    "# Combine animations with audio"
   ]
  },
  {
   "cell_type": "code",
   "execution_count": 68,
   "metadata": {},
   "outputs": [
    {
     "data": {
      "text/plain": [
       "0"
      ]
     },
     "execution_count": 68,
     "metadata": {},
     "output_type": "execute_result"
    }
   ],
   "source": [
    "import subprocess\n",
    "\n",
    "def get_file_duration(filename):\n",
    "  result = subprocess.check_output('ffprobe -show_entries format=duration -i {}'.format(filename), shell=True)\n",
    "  seconds = float(str(result).split('duration=')[1].split('\\\\n')[0])\n",
    "  return seconds\n",
    "  \n",
    "audio_seconds = get_file_duration('flocking.mp3')\n",
    "video_seconds = get_file_duration('stacked-animation.mp4')\n",
    "\n",
    "# stretch the video duration\n",
    "ratio = audio_seconds / video_seconds\n",
    "os.system('ffmpeg -i stacked-animation.mp4 -filter_complex \"setpts=PTS*{}\" stretched.mp4'.format(ratio))\n",
    "\n",
    "# combine the audio and video\n",
    "os.system('ffmpeg -i flock.mp3 -i stretched.mp4 combined.mp4')"
   ]
  },
  {
   "cell_type": "markdown",
   "metadata": {},
   "source": [
    "# Streaming midi"
   ]
  },
  {
   "cell_type": "code",
   "execution_count": null,
   "metadata": {},
   "outputs": [],
   "source": [
    "import mido\n",
    "from mido.backends import rtmidi # one must import the backend before it's available\n",
    "\n",
    "mido.set_backend('mido.backends.rtmidi', load=True)\n",
    "out_port = mido.open_output('mido_port')\n",
    "\n",
    "print(portmidi.get_devices())\n",
    "print(mido.get_output_names())\n",
    "\n",
    "msg = mido.Message('note_on', note=60)\n",
    "out_port.send(msg)"
   ]
  }
 ],
 "metadata": {
  "kernelspec": {
   "display_name": "Python 3",
   "language": "python",
   "name": "python3"
  },
  "language_info": {
   "codemirror_mode": {
    "name": "ipython",
    "version": 3
   },
   "file_extension": ".py",
   "mimetype": "text/x-python",
   "name": "python",
   "nbconvert_exporter": "python",
   "pygments_lexer": "ipython3",
   "version": "3.5.3"
  }
 },
 "nbformat": 4,
 "nbformat_minor": 2
}
